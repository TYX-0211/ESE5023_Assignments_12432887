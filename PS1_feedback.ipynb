{
 "cells": [
  {
   "cell_type": "markdown",
   "metadata": {},
   "source": [
    "### Score: `[103]`\n",
    "\n",
    "Q1. `[9]` Good job! 注意细节\n",
    "\n",
    "Q2. `[11]` Very good job!\n",
    "\n",
    "Q3. `[16.5+5.5]` 很完美的实现！！\n",
    "\n",
    "Q4. `[5.5+14+4]` 有一些小错误，详见注释。\n",
    "\n",
    "Q5. `[5.5+26。5+5.5]` Good job!\n",
    "\n",
    "各题注释用`### Note`给出，请自行查阅。"
   ]
  },
  {
   "cell_type": "markdown",
   "metadata": {},
   "source": [
    "**Collaboration:**  \n",
    "\n",
    "Collaboration on solving the assignment is allowed, after you have thought about the problem sets on your own. It is also OK to get clarification (but not solutions) from online resources, again after you have thought about the problem sets on your own. \n",
    "\n",
    "There are two requirements for collaboration: \n",
    "\n",
    "* Cite your collaborators **fully and completely** (*e.g.*, \"XXX explained to me what is asked in problem set 3\"). Or cite online resources (*e.g.*, \"I got inspired by reading XXX\") that helped you.\n",
    "\n",
    "* Write your scripts and report **independently** - the scripts and report must come from you only."
   ]
  },
  {
   "cell_type": "markdown",
   "metadata": {},
   "source": [
    "# 1. Flowchart \n",
    "\n",
    "Write a function `Print_values` with arguments `a`, `b`, and `c` to reflect the following flowchart. Here the purple parallelogram operator on a list `[x, y, z]` is to compute and print `x+y-10z`. Try your output with some random `a`, `b`, and `c` values. Report your output when `a = 10, b = 5, c = 1`."
   ]
  },
  {
   "cell_type": "code",
   "execution_count": 4,
   "metadata": {
    "scrolled": true
   },
   "outputs": [
    {
     "name": "stdout",
     "output_type": "stream",
     "text": [
      "5.0\n"
     ]
    }
   ],
   "source": [
    "#From large to small order\n",
    "def Print_values():\n",
    "    x=0\n",
    "    y=0\n",
    "    z=0\n",
    "    a=float(input(\"a:\"))\n",
    "    b=float(input(\"b:\"))\n",
    "    c=float(input(\"c:\"))\n",
    "    \n",
    "    if (a>=b): ###Note: 注意图里是a>b, a==b算False，往流程图左边走\n",
    "        x=a\n",
    "        y=b\n",
    "    else:\n",
    "        x=b\n",
    "        y=a\n",
    "        \n",
    "    if (c<y):\n",
    "        z=c\n",
    "    elif(c>=y and c<x):\n",
    "        z=y\n",
    "        y=c\n",
    "    else:\n",
    "        z=y\n",
    "        y=x\n",
    "        x=c\n",
    "    print(x+y-10*z)\n",
    "Print_values()"
   ]
  },
  {
   "cell_type": "markdown",
   "metadata": {},
   "source": [
    "[The output of \"a = 10, b = 5, c = 1\" is 5]"
   ]
  },
  {
   "cell_type": "markdown",
   "metadata": {},
   "source": [
    "# 2. Continuous ceiling function\n",
    "\n",
    "Given a list with `N` positive integers. For every element `x` of the list, find the value of continuous ceiling function defined as `F(x) = F(ceil(x/3)) + 2x`, where `F(1) = 1`. "
   ]
  },
  {
   "cell_type": "code",
   "execution_count": 16,
   "metadata": {},
   "outputs": [
    {
     "name": "stdout",
     "output_type": "stream",
     "text": [
      "positive interger number:5\n",
      "list with N intergers: [61  6 20 44 21]\n",
      "the value of function is: [185, 17, 61, 133, 63]\n"
     ]
    }
   ],
   "source": [
    "import math\n",
    "import numpy as np\n",
    "#define the continuous ceiling function\n",
    "def F(x):\n",
    "    if x == 1:\n",
    "        return 1\n",
    "    else:\n",
    "        return F(math.ceil(x / 3)) + 2 * x\n",
    "#creat the list and calculate the value\n",
    "N=int(input(\"positive interger number:\"))\n",
    "arr_N=np.random.randint(0,100,size=N)\n",
    "value_of_fuction=[F(x) for x in arr_N]\n",
    "print(\"list with N intergers:\",arr_N)\n",
    "print(\"the value of function is:\",value_of_fuction)"
   ]
  },
  {
   "cell_type": "markdown",
   "metadata": {},
   "source": [
    "# 3. Dice rolling\n",
    "\n",
    "**3.1** Given `10` dice each with `6` faces, numbered from `1` to `6`. Write a function `Find_number_of_ways` to find the number of ways to get sum `x`, defined as the sum of values on each face when all the dice are thrown."
   ]
  },
  {
   "cell_type": "code",
   "execution_count": 2,
   "metadata": {},
   "outputs": [],
   "source": [
    "import numpy as np"
   ]
  },
  {
   "cell_type": "code",
   "execution_count": 28,
   "metadata": {},
   "outputs": [
    {
     "name": "stdout",
     "output_type": "stream",
     "text": [
      "4395456\n"
     ]
    }
   ],
   "source": [
    "def Find_number_of_ways():\n",
    "    x=int(input(\"The number of ways to get sum:\"))\n",
    "    #dp[i]--ways to get sum i\n",
    "    dp = np.zeros(x + 1, dtype=int)\n",
    "    dp[0] = 1\n",
    "    # 10 dices with face number 1-6\n",
    "    for _ in range(10):\n",
    "        dp_new = np.zeros(x + 1, dtype=int)\n",
    "        for i in range(1,x + 1):\n",
    "            for face in range(1, 7):\n",
    "                if i - face >= 0:\n",
    "                    dp_new[i] = dp_new[i] + dp[i - face]\n",
    "        dp = dp_new\n",
    "    print(dp[x])\n",
    "Find_number_of_ways()"
   ]
  },
  {
   "cell_type": "markdown",
   "metadata": {},
   "source": [
    "**3.2** Count the number of ways for any `x` from `10` to `60`, assign the number of ways to a list called `Number_of_ways`, so which `x` yields the maximum of `Number_of_ways`?"
   ]
  },
  {
   "cell_type": "code",
   "execution_count": 18,
   "metadata": {},
   "outputs": [
    {
     "name": "stdout",
     "output_type": "stream",
     "text": [
      "the maximum number of ways to get sum 35 is 4395456\n"
     ]
    }
   ],
   "source": [
    "#3.2\n",
    "#fuction to get the number of ways of x\n",
    "def Find_number_of_ways(x):\n",
    "    #dp[i]--ways to get sum i\n",
    "    dp = np.zeros(x + 1, dtype=int)\n",
    "    dp[0] = 1\n",
    "    # 10 dices with face number 1-6\n",
    "    for _ in range(10):\n",
    "        dp_new = np.zeros(x + 1, dtype=int)\n",
    "        for i in range(1,x + 1):\n",
    "            for face in range(1, 7):\n",
    "                if i - face >= 0:\n",
    "                    dp_new[i] = dp_new[i] + dp[i - face]\n",
    "        dp = dp_new\n",
    "    return dp[x]\n",
    "\n",
    "#assign the number of ways to a list\n",
    "Number_of_ways = []\n",
    "for x in range(10, 61):\n",
    "    ways=Find_number_of_ways(x)\n",
    "    Number_of_ways.append(ways)\n",
    "#x start with 10 which correspending the index_0\n",
    "x_max_index=np.argmax(Number_of_ways)\n",
    "x_max = x_max_index +10\n",
    "print(\"the maximum number of ways to get sum\",x_max,\"is\",Number_of_ways[x_max_index])"
   ]
  },
  {
   "cell_type": "markdown",
   "metadata": {},
   "source": [
    "So which `x` yields the maximum of `Number_of_ways`? [ x=35 yield the maximum of number of ways(4395456) ]"
   ]
  },
  {
   "cell_type": "markdown",
   "metadata": {},
   "source": [
    "I got inspired by reading “python 实现动态规划”in CSDN https://blog.csdn.net/liulanba/article/details/115162382;\n",
    "and check the answer with \"骰子概率计算器\"\n",
    "https://www.calculatorultra.com/zh/tool/dice-probability-calculator.html"
   ]
  },
  {
   "cell_type": "markdown",
   "metadata": {},
   "source": [
    "# 4. Dynamic programming\n",
    "\n",
    "**4.1 [5 points]** Write a function `Random_integer` to fill an array of `N` elements by randomly selecting integers from `0` to `10`."
   ]
  },
  {
   "cell_type": "code",
   "execution_count": 3,
   "metadata": {},
   "outputs": [
    {
     "data": {
      "text/plain": [
       "(array([8, 6, 9]), 3)"
      ]
     },
     "execution_count": 3,
     "metadata": {},
     "output_type": "execute_result"
    }
   ],
   "source": [
    "import random\n",
    "import numpy as np\n",
    "# 4.1\n",
    "def Random_integer( ):\n",
    "    N = int(input(\"Enter the number of elements: \"))\n",
    "    arr_N=np.random.randint(0, 11,size=N)\n",
    "    return arr_N,N\n",
    "Random_integer()"
   ]
  },
  {
   "cell_type": "markdown",
   "metadata": {},
   "source": [
    "**4.2 [15 points]** Write a function `Sum_averages` to compute the sum of the average of all subsets of the array. For example, given an array of `[1, 2, 3]`, you `Sum_averages` function should compute the sum of: average of `[1]`, average of `[2]`, average of `[3]`,  average of `[1, 2]`, average of `[1, 3]`, average of `[2, 3]`, and average of `[1, 2, 3]`.  "
   ]
  },
  {
   "cell_type": "code",
   "execution_count": 9,
   "metadata": {},
   "outputs": [
    {
     "name": "stdout",
     "output_type": "stream",
     "text": [
      "[ 6 10 10  0  1]\n",
      "\n",
      "All subsets:\n",
      "(1,)\n",
      "(2,)\n",
      "(6,)\n",
      "(6,)\n",
      "(8,)\n",
      "(1, 2)\n",
      "(1, 6)\n",
      "(1, 6)\n",
      "(1, 8)\n",
      "(2, 6)\n",
      "(2, 6)\n",
      "(2, 8)\n",
      "(6, 6)\n",
      "(6, 8)\n",
      "(6, 8)\n",
      "(1, 2, 6)\n",
      "(1, 2, 6)\n",
      "(1, 2, 8)\n",
      "(1, 6, 6)\n",
      "(1, 6, 8)\n",
      "(1, 6, 8)\n",
      "(2, 6, 6)\n",
      "(2, 6, 8)\n",
      "(2, 6, 8)\n",
      "(6, 6, 8)\n",
      "(1, 2, 6, 6)\n",
      "(1, 2, 6, 8)\n",
      "(1, 2, 6, 8)\n",
      "(1, 6, 6, 8)\n",
      "(2, 6, 6, 8)\n",
      "(1, 2, 6, 6, 8)\n",
      "Sum of averages of all subsets: 142.6\n"
     ]
    }
   ],
   "source": [
    "# 4.2\n",
    "from itertools import combinations\n",
    "def Sum_averages(arr_N,N): \n",
    "    total_sum=0\n",
    "    all_subsets = []\n",
    "    #find all the subsets\n",
    "    for i in range(1, N+1):\n",
    "        subsets=itertools.combinations(arr_N,i) ### Note: 用 from... import ... 导入直接用combinations就好了\n",
    "        for subset in subsets:\n",
    "            total_sum = total_sum + sum(subset)/len(subset)\n",
    "            all_subsets.append(subset)\n",
    "    return total_sum,all_subsets\n",
    "\n",
    "#generate array\n",
    "arr_N,N=Random_integer()\n",
    "print(arr_N)\n",
    "sum_of_averages,all_subsets=Sum_averages(arr_N,N)\n",
    "print(\"\\nAll subsets:\")\n",
    "for subset in all_subsets:\n",
    "    print(subset)\n",
    "print(\"Sum of averages of all subsets:\", sum_of_averages)"
   ]
  },
  {
   "cell_type": "markdown",
   "metadata": {},
   "source": [
    "I got inspired on how to generate subsets of array by reading \"Python输出集合中的所有子集\"\n",
    "https://blog.csdn.net/An4480/article/details/135497880"
   ]
  },
  {
   "cell_type": "markdown",
   "metadata": {},
   "source": [
    "**4.3 [5 points]** Call `Sum_averages` with `N` increasing from `1` to `100`, assign the output to a list called `Total_sum_averages`. Plot `Total_sum_averages`, describe what you see.\n"
   ]
  },
  {
   "cell_type": "code",
   "execution_count": 269,
   "metadata": {
    "scrolled": true
   },
   "outputs": [
    {
     "ename": "KeyboardInterrupt",
     "evalue": "",
     "output_type": "error",
     "traceback": [
      "\u001b[0;31m---------------------------------------------------------------------------\u001b[0m",
      "\u001b[0;31mKeyboardInterrupt\u001b[0m                         Traceback (most recent call last)",
      "Cell \u001b[0;32mIn[269], line 12\u001b[0m\n\u001b[1;32m     10\u001b[0m \u001b[38;5;28;01mfor\u001b[39;00m N \u001b[38;5;129;01min\u001b[39;00m \u001b[38;5;28mrange\u001b[39m(\u001b[38;5;241m1\u001b[39m, \u001b[38;5;241m101\u001b[39m):\n\u001b[1;32m     11\u001b[0m     arr_N \u001b[38;5;241m=\u001b[39m Random_array_N(N)\n\u001b[0;32m---> 12\u001b[0m     total_sum,_ \u001b[38;5;241m=\u001b[39m Sum_averages(arr_N,N)\n\u001b[1;32m     13\u001b[0m     Total_sum_averages\u001b[38;5;241m.\u001b[39mappend(total_sum)\n\u001b[1;32m     15\u001b[0m \u001b[38;5;66;03m# Plot a line\u001b[39;00m\n",
      "Cell \u001b[0;32mIn[259], line 10\u001b[0m, in \u001b[0;36mSum_averages\u001b[0;34m(arr_N, N)\u001b[0m\n\u001b[1;32m      8\u001b[0m     subsets\u001b[38;5;241m=\u001b[39mitertools\u001b[38;5;241m.\u001b[39mcombinations(arr_N,i)\n\u001b[1;32m      9\u001b[0m     \u001b[38;5;28;01mfor\u001b[39;00m subset \u001b[38;5;129;01min\u001b[39;00m subsets:\n\u001b[0;32m---> 10\u001b[0m         total_sum \u001b[38;5;241m=\u001b[39m total_sum \u001b[38;5;241m+\u001b[39m \u001b[38;5;28msum\u001b[39m(subset)\u001b[38;5;241m/\u001b[39m\u001b[38;5;28mlen\u001b[39m(subset)\n\u001b[1;32m     11\u001b[0m         all_subsets\u001b[38;5;241m.\u001b[39mappend(subset)\n\u001b[1;32m     12\u001b[0m \u001b[38;5;28;01mreturn\u001b[39;00m total_sum,all_subsets\n",
      "\u001b[0;31mKeyboardInterrupt\u001b[0m: "
     ]
    }
   ],
   "source": [
    "# 4.3\n",
    "import matplotlib.pyplot as plt\n",
    "#assign the output to a list\n",
    "Total_sum_averages = []\n",
    "\n",
    "def Random_array_N (N):\n",
    "    arr_N = np.random.randint(0, 11, size=N)\n",
    "    return arr_N\n",
    "\n",
    "for N in range(1, 101):\n",
    "    arr_N = Random_array_N(N)\n",
    "    total_sum,_ = Sum_averages(arr_N,N)\n",
    "    Total_sum_averages.append(total_sum)\n",
    "\n",
    "# Plot a line\n",
    "plt.plot(range(1, 101),Total_sum_averages)\n",
    "# Add x and y labels\n",
    "plt.xlabel(\"N\")\n",
    "plt.ylabel(\"Sum averages\")\n",
    "# Add figure title\n",
    "plt.title(\"Sum of averages for subsets for array with N elements\")\n",
    "# Show plot\n",
    "plt.show()"
   ]
  },
  {
   "cell_type": "code",
   "execution_count": 10,
   "metadata": {},
   "outputs": [
    {
     "data": {
      "image/png": "[encoded data removed]",
      "text/plain": [
       "<Figure size 640x480 with 1 Axes>"
      ]
     },
     "metadata": {},
     "output_type": "display_data"
    }
   ],
   "source": [
    "### Note: 算法是没有问题的，就是复杂度比较高，所以跑到100偏慢\n",
    "# 4.3\n",
    "import matplotlib.pyplot as plt\n",
    "#assign the output to a list\n",
    "Total_sum_averages = []\n",
    "\n",
    "def Random_array_N (N):\n",
    "    arr_N = np.random.randint(0, 11, size=N)\n",
    "    return arr_N\n",
    "\n",
    "for N in range(1, 21):\n",
    "    arr_N = Random_array_N(N)\n",
    "    total_sum,_ = Sum_averages(arr_N,N)\n",
    "    Total_sum_averages.append(total_sum)\n",
    "\n",
    "# Plot a line\n",
    "plt.plot(range(1, 21),Total_sum_averages)\n",
    "# Add x and y labels\n",
    "plt.xlabel(\"N\")\n",
    "plt.ylabel(\"Sum averages\")\n",
    "# Add figure title\n",
    "plt.title(\"Sum of averages for subsets for array with N elements\")\n",
    "# Show plot\n",
    "plt.show()"
   ]
  },
  {
   "cell_type": "markdown",
   "metadata": {},
   "source": [
    "Describe what you see. \n",
    "\n",
    "Fail to plot with N increasing :(\n",
    "\n",
    "But，I suppose Total_sum_averages should show an upward trend as N increases."
   ]
  },
  {
   "cell_type": "markdown",
   "metadata": {},
   "source": [
    "# 5. Path counting\n",
    "\n",
    "**5.1 [5 points]** Create a matrix with `N` rows and `M` columns, fill the right-bottom corner and top-left corner cells with `1`, and randomly fill the rest of matrix with integer `0` or `1`."
   ]
  },
  {
   "cell_type": "code",
   "execution_count": 20,
   "metadata": {},
   "outputs": [
    {
     "name": "stdout",
     "output_type": "stream",
     "text": [
      "rows:5\n",
      "colomns:8\n",
      "[[1 0 0 1 0 1 1 0]\n",
      " [1 0 0 1 0 1 1 1]\n",
      " [0 0 0 1 0 1 1 0]\n",
      " [1 0 1 1 0 1 0 0]\n",
      " [0 0 0 1 1 0 1 1]]\n"
     ]
    }
   ],
   "source": [
    "#creat a NxM matrix with random integer 0/1\n",
    "N=int(input(\"rows:\"))\n",
    "M=int(input(\"colomns:\"))\n",
    "matrix = np.random.randint(0,2,(N,M))\n",
    "#replace the unique place\n",
    "matrix[0, 0] = 1\n",
    "matrix[-1, -1] = 1\n",
    "print(matrix)"
   ]
  },
  {
   "cell_type": "markdown",
   "metadata": {},
   "source": [
    "**5.2 [25 points]** Consider a cell marked with `0` as a blockage or dead-end, and a cell marked with `1` is good to go. Write a function `Count_path` to count the total number of paths to reach the right-bottom corner cell from the top-left corner cell. \n",
    "\n",
    "**Notice:** for a given cell, you are **only allowed** to move either rightward or downward."
   ]
  },
  {
   "cell_type": "code",
   "execution_count": 13,
   "metadata": {},
   "outputs": [
    {
     "name": "stdout",
     "output_type": "stream",
     "text": [
      "the total number of paths is 0\n"
     ]
    }
   ],
   "source": [
    "def Count_path(matrix):\n",
    "    dp = np.zeros((N, M), dtype=int)\n",
    "    dp[0][0] = 1\n",
    "    #the first row\n",
    "    for j in range(1, M):\n",
    "        if matrix[0][j] == 1:\n",
    "            dp[0][j] = dp[0][j-1]\n",
    "    #the first colomn\n",
    "    for i in range(1, N):\n",
    "        if matrix[i][0] == 1:\n",
    "            dp[i][0] = dp[i-1][0]\n",
    "    #the rest of places\n",
    "    for i in range(1, N):\n",
    "        for j in range(1, M):\n",
    "            if matrix[i][j] == 1:\n",
    "                dp[i][j] = dp[i-1][j] + dp[i][j-1]\n",
    "    #paths\n",
    "    return dp[N-1][M-1]\n",
    "\n",
    "#creat a NxM matrix with random integer 0/1\n",
    "N=int(input(\"rows:\"))\n",
    "M=int(input(\"colomns:\"))\n",
    "matrix = np.random.randint(0,2,(N,M))\n",
    "#replace the unique place\n",
    "matrix[0, 0] = 1\n",
    "matrix[-1, -1] = 1\n",
    "print(matrix)\n",
    "paths = Count_path(matrix)\n",
    "print(\"the total number of paths is\",paths)"
   ]
  },
  {
   "cell_type": "markdown",
   "metadata": {},
   "source": [
    "I got inspired by reading “python 实现动态规划”in CSDN again https://blog.csdn.net/liulanba/article/details/115162382"
   ]
  },
  {
   "cell_type": "markdown",
   "metadata": {},
   "source": [
    "**5.3 [5 points]** Let `N = 10, M = 8`, run `Count_path` for `1000` times, each time the matrix (except the right-bottom corner and top-left corner cells, which remain being `1`) is re-filled with integer `0` or `1` randomly, report the mean of total number of paths from the `1000` runs."
   ]
  },
  {
   "cell_type": "code",
   "execution_count": 155,
   "metadata": {},
   "outputs": [
    {
     "name": "stdout",
     "output_type": "stream",
     "text": [
      "the mean of total number of paths from the 1000 runs is 3.541\n"
     ]
    }
   ],
   "source": [
    "for _ in range(1000):\n",
    "        matrix = np.random.randint(0,2,(10,8))\n",
    "        matrix[0, 0] = 1\n",
    "        matrix[-1, -1] = 1\n",
    "        total_paths = total_paths + Count_path(matrix)\n",
    "        \n",
    "mean_paths = total_paths / 1000\n",
    "print(\"the mean of total number of paths from the 1000 runs is\",mean_paths)"
   ]
  },
  {
   "cell_type": "markdown",
   "metadata": {},
   "source": [
    "Report the mean of total number of paths from the `1000` runs. [3.541]"
   ]
  }
 ],
 "metadata": {
  "kernelspec": {
   "display_name": "Python 3 (ipykernel)",
   "language": "python",
   "name": "python3"
  },
  "language_info": {
   "codemirror_mode": {
    "name": "ipython",
    "version": 3
   },
   "file_extension": ".py",
   "mimetype": "text/x-python",
   "name": "python",
   "nbconvert_exporter": "python",
   "pygments_lexer": "ipython3",
   "version": "3.12.4"
  }
 },
 "nbformat": 4,
 "nbformat_minor": 2
}
